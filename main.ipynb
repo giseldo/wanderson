{
 "cells": [
  {
   "cell_type": "code",
   "execution_count": 18,
   "metadata": {},
   "outputs": [],
   "source": [
    "# instalar o pandas\n",
    "# pip instal pandas ( no prompt de comando)\n",
    "\n",
    "import pandas as pd"
   ]
  },
  {
   "cell_type": "code",
   "execution_count": 19,
   "metadata": {},
   "outputs": [],
   "source": [
    "df = pd.read_csv(\"dados_faturamento.csv\", sep=\";\")"
   ]
  },
  {
   "cell_type": "code",
   "execution_count": 26,
   "metadata": {},
   "outputs": [
    {
     "data": {
      "text/plain": [
       "pandas.core.frame.DataFrame"
      ]
     },
     "execution_count": 26,
     "metadata": {},
     "output_type": "execute_result"
    }
   ],
   "source": [
    "type(df)"
   ]
  },
  {
   "cell_type": "code",
   "execution_count": 20,
   "metadata": {},
   "outputs": [
    {
     "data": {
      "text/html": [
       "<div>\n",
       "<style scoped>\n",
       "    .dataframe tbody tr th:only-of-type {\n",
       "        vertical-align: middle;\n",
       "    }\n",
       "\n",
       "    .dataframe tbody tr th {\n",
       "        vertical-align: top;\n",
       "    }\n",
       "\n",
       "    .dataframe thead th {\n",
       "        text-align: right;\n",
       "    }\n",
       "</style>\n",
       "<table border=\"1\" class=\"dataframe\">\n",
       "  <thead>\n",
       "    <tr style=\"text-align: right;\">\n",
       "      <th></th>\n",
       "      <th>ANO</th>\n",
       "      <th>JAN</th>\n",
       "      <th>FEV</th>\n",
       "      <th>MAR</th>\n",
       "      <th>ABR</th>\n",
       "      <th>MAI</th>\n",
       "      <th>JUN</th>\n",
       "      <th>JUL</th>\n",
       "      <th>AGO</th>\n",
       "      <th>SET</th>\n",
       "      <th>OUT</th>\n",
       "      <th>NOV</th>\n",
       "      <th>DEZ</th>\n",
       "    </tr>\n",
       "  </thead>\n",
       "  <tbody>\n",
       "    <tr>\n",
       "      <th>0</th>\n",
       "      <td>2020</td>\n",
       "      <td>87531.82</td>\n",
       "      <td>78992.25</td>\n",
       "      <td>51298.60</td>\n",
       "      <td>41568.95</td>\n",
       "      <td>40837.75</td>\n",
       "      <td>45793.36</td>\n",
       "      <td>61307.22</td>\n",
       "      <td>75298.61</td>\n",
       "      <td>116317.72</td>\n",
       "      <td>120076.40</td>\n",
       "      <td>124489.80</td>\n",
       "      <td>255932.38</td>\n",
       "    </tr>\n",
       "    <tr>\n",
       "      <th>1</th>\n",
       "      <td>2021</td>\n",
       "      <td>97343.06</td>\n",
       "      <td>64754.95</td>\n",
       "      <td>69930.85</td>\n",
       "      <td>60677.35</td>\n",
       "      <td>103995.55</td>\n",
       "      <td>100087.68</td>\n",
       "      <td>98059.95</td>\n",
       "      <td>88312.64</td>\n",
       "      <td>128227.15</td>\n",
       "      <td>130042.04</td>\n",
       "      <td>121562.80</td>\n",
       "      <td>232164.14</td>\n",
       "    </tr>\n",
       "    <tr>\n",
       "      <th>2</th>\n",
       "      <td>2022</td>\n",
       "      <td>62528.64</td>\n",
       "      <td>61471.90</td>\n",
       "      <td>81758.71</td>\n",
       "      <td>87421.15</td>\n",
       "      <td>113758.65</td>\n",
       "      <td>55142.00</td>\n",
       "      <td>106121.41</td>\n",
       "      <td>62390.00</td>\n",
       "      <td>41309.00</td>\n",
       "      <td>75847.00</td>\n",
       "      <td>67904.25</td>\n",
       "      <td>NaN</td>\n",
       "    </tr>\n",
       "  </tbody>\n",
       "</table>\n",
       "</div>"
      ],
      "text/plain": [
       "    ANO       JAN       FEV       MAR       ABR        MAI        JUN   \n",
       "0  2020  87531.82  78992.25  51298.60  41568.95   40837.75   45793.36  \\\n",
       "1  2021  97343.06  64754.95  69930.85  60677.35  103995.55  100087.68   \n",
       "2  2022  62528.64  61471.90  81758.71  87421.15  113758.65   55142.00   \n",
       "\n",
       "         JUL       AGO        SET        OUT        NOV        DEZ  \n",
       "0   61307.22  75298.61  116317.72  120076.40  124489.80  255932.38  \n",
       "1   98059.95  88312.64  128227.15  130042.04  121562.80  232164.14  \n",
       "2  106121.41  62390.00   41309.00   75847.00   67904.25        NaN  "
      ]
     },
     "execution_count": 20,
     "metadata": {},
     "output_type": "execute_result"
    }
   ],
   "source": [
    "df.head(3)"
   ]
  },
  {
   "cell_type": "code",
   "execution_count": 21,
   "metadata": {},
   "outputs": [
    {
     "data": {
      "text/plain": [
       "ANO      int64\n",
       "JAN    float64\n",
       "FEV    float64\n",
       "MAR    float64\n",
       "ABR    float64\n",
       "MAI    float64\n",
       "JUN    float64\n",
       "JUL    float64\n",
       "AGO    float64\n",
       "SET    float64\n",
       "OUT    float64\n",
       "NOV    float64\n",
       "DEZ    float64\n",
       "dtype: object"
      ]
     },
     "execution_count": 21,
     "metadata": {},
     "output_type": "execute_result"
    }
   ],
   "source": [
    "df.dtypes"
   ]
  },
  {
   "attachments": {},
   "cell_type": "markdown",
   "metadata": {},
   "source": [
    "Somatório da coluna do mês de janeiro"
   ]
  },
  {
   "cell_type": "code",
   "execution_count": 35,
   "metadata": {},
   "outputs": [
    {
     "data": {
      "text/plain": [
       "247403.52000000002"
      ]
     },
     "execution_count": 35,
     "metadata": {},
     "output_type": "execute_result"
    }
   ],
   "source": [
    "df['JAN'].sum()\n"
   ]
  },
  {
   "cell_type": "code",
   "execution_count": null,
   "metadata": {},
   "outputs": [],
   "source": []
  },
  {
   "cell_type": "code",
   "execution_count": null,
   "metadata": {},
   "outputs": [],
   "source": []
  }
 ],
 "metadata": {
  "kernelspec": {
   "display_name": "Python 3",
   "language": "python",
   "name": "python3"
  },
  "language_info": {
   "codemirror_mode": {
    "name": "ipython",
    "version": 3
   },
   "file_extension": ".py",
   "mimetype": "text/x-python",
   "name": "python",
   "nbconvert_exporter": "python",
   "pygments_lexer": "ipython3",
   "version": "3.11.2"
  },
  "orig_nbformat": 4
 },
 "nbformat": 4,
 "nbformat_minor": 2
}
